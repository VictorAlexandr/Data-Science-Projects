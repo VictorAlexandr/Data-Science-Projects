{
  "nbformat": 4,
  "nbformat_minor": 0,
  "metadata": {
    "colab": {
      "provenance": [],
      "authorship_tag": "ABX9TyPAEXeHKNCOJBo70GW0BU6/",
      "include_colab_link": true
    },
    "kernelspec": {
      "name": "python3",
      "display_name": "Python 3"
    },
    "language_info": {
      "name": "python"
    }
  },
  "cells": [
    {
      "cell_type": "markdown",
      "metadata": {
        "id": "view-in-github",
        "colab_type": "text"
      },
      "source": [
        "<a href=\"https://colab.research.google.com/github/VictorAlexandr/Data-Science-Projects/blob/main/Urban_Mobility_Analysis.ipynb\" target=\"_parent\"><img src=\"https://colab.research.google.com/assets/colab-badge.svg\" alt=\"Open In Colab\"/></a>"
      ]
    },
    {
      "cell_type": "markdown",
      "source": [
        "**Projeto de Previsão de Tempo de Viagem**\n",
        "\n",
        "***Introdução***\n",
        "Este projeto tem como objetivo desenvolver um modelo de machine learning para prever o tempo de viagem de táxis em Nova York. O modelo será treinado com um conjunto de dados históricos de viagens de táxi e será avaliado com base em sua capacidade de prever o tempo de viagem de novas viagens.\n",
        "\n",
        "***Objetivos***\n",
        "- Desenvolver um modelo de machine learning para prever o tempo de viagem de táxis em Nova York\n",
        "\n",
        "- Avaliar o desempenho do modelo com base em métricas de erro\n",
        "\n",
        "- Identificar as variáveis mais importantes para a previsão do tempo de viagem\n",
        "\n",
        "***Dataset Utilizado***\n",
        "\n",
        "- **Nome do Dataset:** Yellow Taxi Trip Data\n",
        "\n",
        "- **Fonte:** NYC Yellow Taxi Trip Data\n",
        "\n",
        "- **Descrição:** O dataset contém informações sobre viagens de táxi em Nova York, incluindo a data e hora de início e fim da viagem, a localização de início e fim da viagem, o número de passageiros, a distância percorrida e o tempo de viagem.\n",
        "\n",
        "***Características do Dataset***\n",
        "\n",
        "- **Tamanho:** 309.664 linhas\n",
        "\n",
        "- **Variáveis:** 14\n",
        "\n",
        "- **Tipo de dados:** Numérico e categórico\n",
        "\n",
        "***Tecnologias Utilizadas***\n",
        "\n",
        "- **Linguagem de programação:** Python\n",
        "\n",
        "- **Bibliotecas:** Pandas, NumPy, Scikit-learn, Matplotlib\n",
        "\n",
        "- **Ambiente de desenvolvimento:** Jupyter Notebook / Colab"
      ],
      "metadata": {
        "id": "zcW0qSnxll18"
      }
    },
    {
      "cell_type": "markdown",
      "source": [
        "**Importando Bibliotecas**\n"
      ],
      "metadata": {
        "id": "IzF-fi5sgmD-"
      }
    },
    {
      "cell_type": "code",
      "execution_count": 1,
      "metadata": {
        "id": "PC6F0bQNWMhy"
      },
      "outputs": [],
      "source": [
        "import pandas as pd\n",
        "import numpy as np\n",
        "import matplotlib.pyplot as plt\n",
        "from sklearn.model_selection import train_test_split\n",
        "from sklearn.ensemble import RandomForestRegressor\n",
        "from sklearn.metrics import mean_squared_error"
      ]
    },
    {
      "cell_type": "markdown",
      "source": [
        "**Carregando o Dataset**"
      ],
      "metadata": {
        "id": "SscgRKhggjNd"
      }
    },
    {
      "cell_type": "code",
      "source": [
        "# Carregando o dataset\n",
        "df = pd.read_csv('yellow_tripdata_2015-01.csv')"
      ],
      "metadata": {
        "id": "_VOIzNqZXZvw"
      },
      "execution_count": 2,
      "outputs": []
    },
    {
      "cell_type": "markdown",
      "source": [
        "**Explorando os Dados**"
      ],
      "metadata": {
        "id": "pFAuiS2nggoN"
      }
    },
    {
      "cell_type": "code",
      "source": [
        "# Verificando as primeiras linhas do dataframe\n",
        "print(df.head())\n",
        "\n",
        "# Verificando as estatisticas descritivas do dataframe\n",
        "print(df.describe())\n",
        "\n",
        "# Visualizando a distribuição da distância de viagem\n",
        "\n",
        "plt.figure(figsize=(10,6))\n",
        "plt.hist(df['trip_distance'], bins=50)\n",
        "plt.title('Distribuição da distância de viagem')\n",
        "plt.xlabel('Distância de viagem (milhas)')\n",
        "plt.ylabel('Frequência')\n",
        "plt.show()\n"
      ],
      "metadata": {
        "colab": {
          "base_uri": "https://localhost:8080/",
          "height": 1000
        },
        "id": "N5nnpVOAXfQ2",
        "outputId": "e68f9bef-62e9-4eed-d98a-efda2e3639c0"
      },
      "execution_count": 4,
      "outputs": [
        {
          "output_type": "stream",
          "name": "stdout",
          "text": [
            "   VendorID tpep_pickup_datetime tpep_dropoff_datetime  passenger_count  \\\n",
            "0         2  2015-01-15 19:05:39   2015-01-15 19:23:42              1.0   \n",
            "1         1  2015-01-10 20:33:38   2015-01-10 20:53:28              1.0   \n",
            "2         1  2015-01-10 20:33:38   2015-01-10 20:43:41              1.0   \n",
            "3         1  2015-01-10 20:33:39   2015-01-10 20:35:31              1.0   \n",
            "4         1  2015-01-10 20:33:39   2015-01-10 20:52:58              1.0   \n",
            "\n",
            "   trip_distance  pickup_longitude  pickup_latitude  RateCodeID  \\\n",
            "0           1.59        -73.993896        40.750111         1.0   \n",
            "1           3.30        -74.001648        40.724243         1.0   \n",
            "2           1.80        -73.963341        40.802788         1.0   \n",
            "3           0.50        -74.009087        40.713818         1.0   \n",
            "4           3.00        -73.971176        40.762428         1.0   \n",
            "\n",
            "  store_and_fwd_flag  dropoff_longitude  dropoff_latitude  payment_type  \\\n",
            "0                  N         -73.974785         40.750618           1.0   \n",
            "1                  N         -73.994415         40.759109           1.0   \n",
            "2                  N         -73.951820         40.824413           2.0   \n",
            "3                  N         -74.004326         40.719986           2.0   \n",
            "4                  N         -74.004181         40.742653           2.0   \n",
            "\n",
            "   fare_amount  extra  mta_tax  tip_amount  tolls_amount  \\\n",
            "0         12.0    1.0      0.5        3.25           0.0   \n",
            "1         14.5    0.5      0.5        2.00           0.0   \n",
            "2          9.5    0.5      0.5        0.00           0.0   \n",
            "3          3.5    0.5      0.5        0.00           0.0   \n",
            "4         15.0    0.5      0.5        0.00           0.0   \n",
            "\n",
            "   improvement_surcharge  total_amount  \n",
            "0                    0.3         17.05  \n",
            "1                    0.3         17.80  \n",
            "2                    0.3         10.80  \n",
            "3                    0.3          4.80  \n",
            "4                    0.3         16.30  \n",
            "            VendorID  passenger_count  trip_distance  pickup_longitude  \\\n",
            "count  309664.000000    309663.000000  309663.000000     309663.000000   \n",
            "mean        1.521249         1.680023       3.072871        -72.569295   \n",
            "std         0.499549         1.337975     165.360219         10.098995   \n",
            "min         1.000000         0.000000       0.000000        -87.451874   \n",
            "25%         1.000000         1.000000       1.000000        -73.991661   \n",
            "50%         2.000000         1.000000       1.670000        -73.981575   \n",
            "75%         2.000000         2.000000       3.000000        -73.966591   \n",
            "max         2.000000         9.000000   92000.900000          0.000000   \n",
            "\n",
            "       pickup_latitude     RateCodeID  dropoff_longitude  dropoff_latitude  \\\n",
            "count    309663.000000  309663.000000      309663.000000     309663.000000   \n",
            "mean         39.976697       1.037098         -72.610488         40.000717   \n",
            "std           5.563999       0.619176           9.951318          5.481845   \n",
            "min           0.000000       1.000000         -76.659363          0.000000   \n",
            "25%          40.735775       1.000000         -73.991226         40.734524   \n",
            "50%          40.753296       1.000000         -73.979820         40.753716   \n",
            "75%          40.767685       1.000000         -73.962601         40.768860   \n",
            "max          41.504498      99.000000           0.000000         49.194656   \n",
            "\n",
            "        payment_type    fare_amount          extra        mta_tax  \\\n",
            "count  309663.000000  309663.000000  309663.000000  309663.000000   \n",
            "mean        1.385997      11.874878       0.318856       0.497709   \n",
            "std         0.498602      10.074626       0.370425       0.035991   \n",
            "min         1.000000    -138.900000      -1.000000      -0.500000   \n",
            "25%         1.000000       6.500000       0.000000       0.500000   \n",
            "50%         1.000000       9.000000       0.000000       0.500000   \n",
            "75%         2.000000      13.500000       0.500000       0.500000   \n",
            "max         4.000000     587.930000       7.000000       0.500000   \n",
            "\n",
            "          tip_amount   tolls_amount  improvement_surcharge   total_amount  \n",
            "count  309663.000000  309663.000000          309663.000000  309663.000000  \n",
            "mean        1.542875       0.241662               0.282965      14.775286  \n",
            "std         2.273359       1.222755               0.069429      12.206110  \n",
            "min       -81.000000      -5.330000               0.000000    -139.700000  \n",
            "25%         0.000000       0.000000               0.300000       8.190000  \n",
            "50%         1.000000       0.000000               0.300000      11.150000  \n",
            "75%         2.060000       0.000000               0.300000      16.300000  \n",
            "max       200.000000      95.330000               0.300000     587.930000  \n"
          ]
        },
        {
          "output_type": "display_data",
          "data": {
            "text/plain": [
              "<Figure size 1000x600 with 1 Axes>"
            ],
            "image/png": "[encoded data removed]"
          },
          "metadata": {}
        }
      ]
    },
    {
      "cell_type": "markdown",
      "source": [
        "**Preparando os Dados**"
      ],
      "metadata": {
        "id": "7fs2vxd6gcjS"
      }
    },
    {
      "cell_type": "code",
      "source": [
        "# Convertendo as colunas de data para datetime\n",
        "df['tpep_pickup_datetime'] = pd.to_datetime(df['tpep_pickup_datetime'], errors='coerce')\n",
        "df['tpep_dropoff_datetime'] = pd.to_datetime(df['tpep_dropoff_datetime'], errors='coerce')"
      ],
      "metadata": {
        "id": "LUUkfmRxeBzL"
      },
      "execution_count": 8,
      "outputs": []
    },
    {
      "cell_type": "code",
      "source": [
        "# Removendo linhas com dados inválidos\n",
        "df = df.dropna(subset=['tpep_pickup_datetime', 'tpep_dropoff_datetime'])\n"
      ],
      "metadata": {
        "id": "SpnNTiCjeBvy"
      },
      "execution_count": 9,
      "outputs": []
    },
    {
      "cell_type": "code",
      "source": [
        "# Criando a coluna \"hora\" e \"dia\"\n",
        "df['hora'] = df['tpep_pickup_datetime'].dt.hour\n",
        "df['dia'] = df['tpep_pickup_datetime'].dt.dayofweek"
      ],
      "metadata": {
        "id": "jeWp-GPaeBl7"
      },
      "execution_count": 10,
      "outputs": []
    },
    {
      "cell_type": "code",
      "source": [
        "# Criando a coluna \"trip_duration\"\n",
        "df['trip_duration'] = (df['tpep_dropoff_datetime'] - df['tpep_pickup_datetime']).dt.total_seconds() / 60"
      ],
      "metadata": {
        "id": "q-dbTmRneG0p"
      },
      "execution_count": 11,
      "outputs": []
    },
    {
      "cell_type": "code",
      "source": [
        "# Selecionando as variáveis relevantes para o modelo\n",
        "X = df[['hora', 'dia', 'passenger_count', 'trip_distance']]\n",
        "y = df['trip_duration']"
      ],
      "metadata": {
        "id": "lylPiXmBeGxG"
      },
      "execution_count": 12,
      "outputs": []
    },
    {
      "cell_type": "markdown",
      "source": [
        "**Dividindo os Dados em Treinamento e Teste**"
      ],
      "metadata": {
        "id": "Cb3FJvsSgSmR"
      }
    },
    {
      "cell_type": "code",
      "source": [
        "# Dividindo os dados em treinamento e teste\n",
        "X_train, X_test, y_train, y_test = train_test_split(X, y, test_size=0.2, random_state=42)"
      ],
      "metadata": {
        "id": "vSPwsyEhXhJn"
      },
      "execution_count": 13,
      "outputs": []
    },
    {
      "cell_type": "markdown",
      "source": [
        "**Treinando o Modelo**"
      ],
      "metadata": {
        "id": "ibcTrwaGgHvy"
      }
    },
    {
      "cell_type": "code",
      "source": [
        "# Treinando o modelo de regressão random forest\n",
        "rf = RandomForestRegressor(n_estimators=100, random_state=40)\n",
        "rf.fit(X_train, y_train)\n"
      ],
      "metadata": {
        "colab": {
          "base_uri": "https://localhost:8080/",
          "height": 74
        },
        "id": "T73azekHXhLV",
        "outputId": "eed2fe68-5f63-4eea-e5bb-2d535777de89"
      },
      "execution_count": 15,
      "outputs": [
        {
          "output_type": "execute_result",
          "data": {
            "text/plain": [
              "RandomForestRegressor(random_state=40)"
            ],
            "text/html": [
              "<style>#sk-container-id-1 {color: black;}#sk-container-id-1 pre{padding: 0;}#sk-container-id-1 div.sk-toggleable {background-color: white;}#sk-container-id-1 label.sk-toggleable__label {cursor: pointer;display: block;width: 100%;margin-bottom: 0;padding: 0.3em;box-sizing: border-box;text-align: center;}#sk-container-id-1 label.sk-toggleable__label-arrow:before {content: \"▸\";float: left;margin-right: 0.25em;color: #696969;}#sk-container-id-1 label.sk-toggleable__label-arrow:hover:before {color: black;}#sk-container-id-1 div.sk-estimator:hover label.sk-toggleable__label-arrow:before {color: black;}#sk-container-id-1 div.sk-toggleable__content {max-height: 0;max-width: 0;overflow: hidden;text-align: left;background-color: #f0f8ff;}#sk-container-id-1 div.sk-toggleable__content pre {margin: 0.2em;color: black;border-radius: 0.25em;background-color: #f0f8ff;}#sk-container-id-1 input.sk-toggleable__control:checked~div.sk-toggleable__content {max-height: 200px;max-width: 100%;overflow: auto;}#sk-container-id-1 input.sk-toggleable__control:checked~label.sk-toggleable__label-arrow:before {content: \"▾\";}#sk-container-id-1 div.sk-estimator input.sk-toggleable__control:checked~label.sk-toggleable__label {background-color: #d4ebff;}#sk-container-id-1 div.sk-label input.sk-toggleable__control:checked~label.sk-toggleable__label {background-color: #d4ebff;}#sk-container-id-1 input.sk-hidden--visually {border: 0;clip: rect(1px 1px 1px 1px);clip: rect(1px, 1px, 1px, 1px);height: 1px;margin: -1px;overflow: hidden;padding: 0;position: absolute;width: 1px;}#sk-container-id-1 div.sk-estimator {font-family: monospace;background-color: #f0f8ff;border: 1px dotted black;border-radius: 0.25em;box-sizing: border-box;margin-bottom: 0.5em;}#sk-container-id-1 div.sk-estimator:hover {background-color: #d4ebff;}#sk-container-id-1 div.sk-parallel-item::after {content: \"\";width: 100%;border-bottom: 1px solid gray;flex-grow: 1;}#sk-container-id-1 div.sk-label:hover label.sk-toggleable__label {background-color: #d4ebff;}#sk-container-id-1 div.sk-serial::before {content: \"\";position: absolute;border-left: 1px solid gray;box-sizing: border-box;top: 0;bottom: 0;left: 50%;z-index: 0;}#sk-container-id-1 div.sk-serial {display: flex;flex-direction: column;align-items: center;background-color: white;padding-right: 0.2em;padding-left: 0.2em;position: relative;}#sk-container-id-1 div.sk-item {position: relative;z-index: 1;}#sk-container-id-1 div.sk-parallel {display: flex;align-items: stretch;justify-content: center;background-color: white;position: relative;}#sk-container-id-1 div.sk-item::before, #sk-container-id-1 div.sk-parallel-item::before {content: \"\";position: absolute;border-left: 1px solid gray;box-sizing: border-box;top: 0;bottom: 0;left: 50%;z-index: -1;}#sk-container-id-1 div.sk-parallel-item {display: flex;flex-direction: column;z-index: 1;position: relative;background-color: white;}#sk-container-id-1 div.sk-parallel-item:first-child::after {align-self: flex-end;width: 50%;}#sk-container-id-1 div.sk-parallel-item:last-child::after {align-self: flex-start;width: 50%;}#sk-container-id-1 div.sk-parallel-item:only-child::after {width: 0;}#sk-container-id-1 div.sk-dashed-wrapped {border: 1px dashed gray;margin: 0 0.4em 0.5em 0.4em;box-sizing: border-box;padding-bottom: 0.4em;background-color: white;}#sk-container-id-1 div.sk-label label {font-family: monospace;font-weight: bold;display: inline-block;line-height: 1.2em;}#sk-container-id-1 div.sk-label-container {text-align: center;}#sk-container-id-1 div.sk-container {/* jupyter's `normalize.less` sets `[hidden] { display: none; }` but bootstrap.min.css set `[hidden] { display: none !important; }` so we also need the `!important` here to be able to override the default hidden behavior on the sphinx rendered scikit-learn.org. See: https://github.com/scikit-learn/scikit-learn/issues/21755 */display: inline-block !important;position: relative;}#sk-container-id-1 div.sk-text-repr-fallback {display: none;}</style><div id=\"sk-container-id-1\" class=\"sk-top-container\"><div class=\"sk-text-repr-fallback\"><pre>RandomForestRegressor(random_state=40)</pre><b>In a Jupyter environment, please rerun this cell to show the HTML representation or trust the notebook. <br />On GitHub, the HTML representation is unable to render, please try loading this page with nbviewer.org.</b></div><div class=\"sk-container\" hidden><div class=\"sk-item\"><div class=\"sk-estimator sk-toggleable\"><input class=\"sk-toggleable__control sk-hidden--visually\" id=\"sk-estimator-id-1\" type=\"checkbox\" checked><label for=\"sk-estimator-id-1\" class=\"sk-toggleable__label sk-toggleable__label-arrow\">RandomForestRegressor</label><div class=\"sk-toggleable__content\"><pre>RandomForestRegressor(random_state=40)</pre></div></div></div></div></div>"
            ]
          },
          "metadata": {},
          "execution_count": 15
        }
      ]
    },
    {
      "cell_type": "markdown",
      "source": [
        "**Previsão do Tempo de Viagem**"
      ],
      "metadata": {
        "id": "mt347zBjgETM"
      }
    },
    {
      "cell_type": "code",
      "source": [
        "# Previsão do tempo de viagem para os dados de teste\n",
        "y_pred = rf.predict(X_test)"
      ],
      "metadata": {
        "id": "rhVuwpkdXhNn"
      },
      "execution_count": 16,
      "outputs": []
    },
    {
      "cell_type": "markdown",
      "source": [
        "**Avaliação do Desempenho do Modelo**"
      ],
      "metadata": {
        "id": "yFGSdg2ygBDJ"
      }
    },
    {
      "cell_type": "code",
      "source": [
        "# Avaliação do desempenho do modelo\n",
        "mse = mean_squared_error(y_test, y_pred)\n",
        "print(f'Erro Médio quadrádico: {mse:.2f} minutos')\n"
      ],
      "metadata": {
        "colab": {
          "base_uri": "https://localhost:8080/"
        },
        "id": "PozSd-z0XhRK",
        "outputId": "2a553719-45c5-4936-b95d-2c181bbd03e6"
      },
      "execution_count": 17,
      "outputs": [
        {
          "output_type": "stream",
          "name": "stdout",
          "text": [
            "Erro Médio quadrádico: 1393.30 minutos\n"
          ]
        }
      ]
    },
    {
      "cell_type": "markdown",
      "source": [
        "**Visualização dos Resultados**"
      ],
      "metadata": {
        "id": "Ssm_MZXtf-aP"
      }
    },
    {
      "cell_type": "code",
      "source": [
        "# Visualização dos Resultados\n",
        "plt.figure(figsize=(10,6))\n",
        "plt.scatter(y_test, y_pred)\n",
        "plt.xlabel('Tempo de viagem real (minutos)')\n",
        "plt.ylabel('Tempo de viagem previsto (minutos)')\n",
        "plt.title('Comparação entre tempo de viagem real e previsto')\n",
        "plt.grid(True)\n",
        "plt.show()"
      ],
      "metadata": {
        "colab": {
          "base_uri": "https://localhost:8080/",
          "height": 564
        },
        "id": "Z-WxwuxmZEU4",
        "outputId": "130120c9-4706-41f3-dba7-1b6acd7b2542"
      },
      "execution_count": 19,
      "outputs": [
        {
          "output_type": "display_data",
          "data": {
            "text/plain": [
              "<Figure size 1000x600 with 1 Axes>"
            ],
            "image/png": "[encoded data removed]"
          },
          "metadata": {}
        }
      ]
    },
    {
      "cell_type": "markdown",
      "source": [
        "***Para melhorar o desempenho do modelo, podemos:***\n",
        "\n",
        "**Aumentar o número de estimadores:** Tente aumentar o número de estimadores no modelo de regressão random forest para ver se isso melhora a precisão.\n",
        "\n",
        "**Selecionar variáveis mais relevantes:** Verifique se as variáveis que você está usando no modelo são as mais relevantes para prever o tempo de viagem. Talvez você possa adicionar ou remover variáveis para melhorar o desempenho.\n",
        "\n",
        "**Usar técnicas de pré-processamento:** Verifique se há alguma técnica de pré-processamento que possa ser aplicada aos dados para melhorar a precisão do modelo.\n",
        "\n",
        "**Experimentar com outros algoritmos:** Talvez você possa experimentar com outros algoritmos de regressão, como o Gradient Boosting ou o Support Vector Regression, para ver se eles têm um desempenho melhor."
      ],
      "metadata": {
        "id": "Tjm8Dub2h5q_"
      }
    },
    {
      "cell_type": "markdown",
      "source": [
        "- **Aumentar o número de estimadores**\n",
        "\n",
        "Vamos aumentar o número de estimadores no modelo de regressão random forest para ver se isso melhora a precisão. Em vez de usar 100 estimadores, vamos usar 200."
      ],
      "metadata": {
        "id": "dYw-wyUhiP2L"
      }
    },
    {
      "cell_type": "code",
      "source": [
        "rf = RandomForestRegressor(n_estimators=200, random_state=42)\n",
        "rf.fit(X_train, y_train)"
      ],
      "metadata": {
        "id": "xfWS8VkviTSP"
      },
      "execution_count": null,
      "outputs": []
    },
    {
      "cell_type": "markdown",
      "source": [
        "- **Selecionar variáveis mais relevantes**\n",
        "\n",
        "Vamos verificar se as variáveis que estamos usando no modelo são as mais relevantes para prever o tempo de viagem. Em vez de usar apenas as variáveis \"hora\", \"dia\", \"passenger_count\" e \"trip_distance\", vamos adicionar a variável \"pickup_longitude\" e \"pickup_latitude\" ao modelo."
      ],
      "metadata": {
        "id": "BXUWO9-cid_r"
      }
    },
    {
      "cell_type": "code",
      "source": [
        "X = df[['hora', 'dia', 'passenger_count', 'trip_distance', 'pickup_longitude', 'pickup_latitude']]\n",
        "y = df['trip_duration']"
      ],
      "metadata": {
        "id": "w3cqYDbRir8G"
      },
      "execution_count": null,
      "outputs": []
    },
    {
      "cell_type": "markdown",
      "source": [
        "- **Usar técnicas de pré-processamento**\n",
        "\n",
        "Vamos verificar se há alguma técnica de pré-processamento que possa ser aplicada aos dados para melhorar a precisão do modelo. Em vez de usar os dados brutos, vamos aplicar a técnica de normalização para os dados."
      ],
      "metadata": {
        "id": "0i0E5jVkivh8"
      }
    },
    {
      "cell_type": "code",
      "source": [
        "from sklearn.preprocessing import StandardScaler\n",
        "\n",
        "scaler = StandardScaler()\n",
        "X_train = scaler.fit_transform(X_train)\n",
        "X_test = scaler.transform(X_test)"
      ],
      "metadata": {
        "id": "NIZCzTVfiz3U"
      },
      "execution_count": null,
      "outputs": []
    },
    {
      "cell_type": "markdown",
      "source": [
        "- **Experimentar com outros algoritmos**\n",
        "\n",
        "Vamos experimentar com outros algoritmos de regressão para ver se eles têm um desempenho melhor. Em vez de usar o modelo de regressão random forest, vamos usar o modelo de regressão gradient boosting."
      ],
      "metadata": {
        "id": "GmWj8vrei4gi"
      }
    },
    {
      "cell_type": "code",
      "source": [
        "from sklearn.ensemble import GradientBoostingRegressor\n",
        "\n",
        "gb = GradientBoostingRegressor(n_estimators=200, random_state=42)\n",
        "gb.fit(X_train, y_train)"
      ],
      "metadata": {
        "id": "yqdOkljqi7pa"
      },
      "execution_count": null,
      "outputs": []
    },
    {
      "cell_type": "markdown",
      "source": [
        "***Agora que fizemos essas mudanças, vamos treinar o modelo novamente e avaliar seu desempenho.***"
      ],
      "metadata": {
        "id": "G1yHcv-pi_-s"
      }
    },
    {
      "cell_type": "code",
      "source": [
        "rf.fit(X_train, y_train)\n",
        "y_pred = rf.predict(X_test)\n",
        "mse = mean_squared_error(y_test, y_pred)\n",
        "print(f'Erro médio quadrático: {mse:.2f} minutos')"
      ],
      "metadata": {
        "id": "r5n7m39hjDQA"
      },
      "execution_count": null,
      "outputs": []
    }
  ]
}