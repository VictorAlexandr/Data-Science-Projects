{
  "nbformat": 4,
  "nbformat_minor": 0,
  "metadata": {
    "colab": {
      "provenance": [],
      "authorship_tag": "ABX9TyOuRcXmcs5pTqn9ekk9RwpB",
      "include_colab_link": true
    },
    "kernelspec": {
      "name": "python3",
      "display_name": "Python 3"
    },
    "language_info": {
      "name": "python"
    }
  },
  "cells": [
    {
      "cell_type": "markdown",
      "metadata": {
        "id": "view-in-github",
        "colab_type": "text"
      },
      "source": [
        "<a href=\"https://colab.research.google.com/github/VictorAlexandr/Data-Science-Projects/blob/main/Modelo_de_Risco_de_Cr%C3%A9dito.ipynb\" target=\"_parent\"><img src=\"https://colab.research.google.com/assets/colab-badge.svg\" alt=\"Open In Colab\"/></a>"
      ]
    },
    {
      "cell_type": "markdown",
      "source": [
        "Vamos criar um modelo de risco de crédito usando o conjunto de dados **\"German Credit\"** disponível no Kaggle. Esse conjunto de dados contém informações sobre clientes de um banco alemão e é amplamente utilizado para fins de modelagem de risco de crédito.\n",
        "\n"
      ],
      "metadata": {
        "id": "e4io3v7UQ8-i"
      }
    },
    {
      "cell_type": "markdown",
      "source": [
        "***Random Forest***\n",
        "\n",
        "- Acurácia: 0.325\n",
        "\n",
        "- Descrição: O modelo de Random Forest é um algoritmo de aprendizado de máquina que combina múltiplas árvores de decisão para prever a probabilidade de não pagar a dívida.\n",
        "\n",
        "***Vantagens:***\n",
        "\n",
        "- Fácil de implementar e treinar\n",
        "- Pode lidar com dados não lineares e não paramétricos\n",
        "- Pode ser paralelizado para melhorar a performance\n",
        "\n",
        "***Desvantagens:***\n",
        "- Pode ser sensível a outliers e ruído nos dados\n",
        "- Pode ser difícil de interpretar os resultados"
      ],
      "metadata": {
        "id": "xAmczfqZiHgC"
      }
    },
    {
      "cell_type": "code",
      "execution_count": 38,
      "metadata": {
        "id": "1WNPgllAO1u3"
      },
      "outputs": [],
      "source": [
        "import pandas as pd\n",
        "import matplotlib.pyplot as plt\n",
        "from sklearn.model_selection import train_test_split\n",
        "from sklearn.ensemble import RandomForestClassifier\n",
        "from sklearn.metrics import accuracy_score, classification_report, confusion_matrix\n",
        "from sklearn.preprocessing import StandardScaler, LabelEncoder"
      ]
    },
    {
      "cell_type": "code",
      "source": [
        "# Carregar o conunto de dados\n",
        "\n",
        "df = pd.read_csv('german_credit_data.csv')"
      ],
      "metadata": {
        "id": "zLdseiA0RCUu"
      },
      "execution_count": 39,
      "outputs": []
    },
    {
      "cell_type": "code",
      "source": [
        "# Visualizar as primeiras linhas do dataset\n",
        "print(df.head())"
      ],
      "metadata": {
        "colab": {
          "base_uri": "https://localhost:8080/"
        },
        "id": "imxMG9xMURde",
        "outputId": "65760281-f130-46f8-f905-d07d871cffee"
      },
      "execution_count": 40,
      "outputs": [
        {
          "output_type": "stream",
          "name": "stdout",
          "text": [
            "   Unnamed: 0  Age     Sex  Job Housing Saving accounts Checking account  \\\n",
            "0           0   67    male    2     own             NaN           little   \n",
            "1           1   22  female    2     own          little         moderate   \n",
            "2           2   49    male    1     own          little              NaN   \n",
            "3           3   45    male    2    free          little           little   \n",
            "4           4   53    male    2    free          little           little   \n",
            "\n",
            "   Credit amount  Duration              Purpose  \n",
            "0           1169         6             radio/TV  \n",
            "1           5951        48             radio/TV  \n",
            "2           2096        12            education  \n",
            "3           7882        42  furniture/equipment  \n",
            "4           4870        24                  car  \n"
          ]
        }
      ]
    },
    {
      "cell_type": "code",
      "source": [
        "# Verificar as colunas do dataset\n",
        "print(df.columns)"
      ],
      "metadata": {
        "colab": {
          "base_uri": "https://localhost:8080/"
        },
        "id": "5L7vBN9rUAni",
        "outputId": "95871539-c3b8-4e19-e97c-28a50b5ca361"
      },
      "execution_count": 41,
      "outputs": [
        {
          "output_type": "stream",
          "name": "stdout",
          "text": [
            "Index(['Unnamed: 0', 'Age', 'Sex', 'Job', 'Housing', 'Saving accounts',\n",
            "       'Checking account', 'Credit amount', 'Duration', 'Purpose'],\n",
            "      dtype='object')\n"
          ]
        }
      ]
    },
    {
      "cell_type": "code",
      "source": [
        "# Verificar o tipo de dados de cada coluna\n",
        "print(df.dtypes)"
      ],
      "metadata": {
        "colab": {
          "base_uri": "https://localhost:8080/"
        },
        "id": "dawlMPkxUZ_H",
        "outputId": "d2238b59-d4f2-463e-94b0-4151634e814d"
      },
      "execution_count": 42,
      "outputs": [
        {
          "output_type": "stream",
          "name": "stdout",
          "text": [
            "Unnamed: 0           int64\n",
            "Age                  int64\n",
            "Sex                 object\n",
            "Job                  int64\n",
            "Housing             object\n",
            "Saving accounts     object\n",
            "Checking account    object\n",
            "Credit amount        int64\n",
            "Duration             int64\n",
            "Purpose             object\n",
            "dtype: object\n"
          ]
        }
      ]
    },
    {
      "cell_type": "code",
      "source": [
        "# Verificar a descrição estatística do dataset\n",
        "print(df.describe())"
      ],
      "metadata": {
        "colab": {
          "base_uri": "https://localhost:8080/"
        },
        "id": "kg8ltj5GUeGb",
        "outputId": "7031d254-f092-4b04-b7a7-3de83783b262"
      },
      "execution_count": 43,
      "outputs": [
        {
          "output_type": "stream",
          "name": "stdout",
          "text": [
            "        Unnamed: 0          Age          Job  Credit amount     Duration\n",
            "count  1000.000000  1000.000000  1000.000000    1000.000000  1000.000000\n",
            "mean    499.500000    35.546000     1.904000    3271.258000    20.903000\n",
            "std     288.819436    11.375469     0.653614    2822.736876    12.058814\n",
            "min       0.000000    19.000000     0.000000     250.000000     4.000000\n",
            "25%     249.750000    27.000000     2.000000    1365.500000    12.000000\n",
            "50%     499.500000    33.000000     2.000000    2319.500000    18.000000\n",
            "75%     749.250000    42.000000     2.000000    3972.250000    24.000000\n",
            "max     999.000000    75.000000     3.000000   18424.000000    72.000000\n"
          ]
        }
      ]
    },
    {
      "cell_type": "code",
      "source": [
        "le = LabelEncoder()\n",
        "df['Sex'] = le.fit_transform(df['Sex'])\n",
        "df['Housing'] = le.fit_transform(df['Housing'])\n",
        "df['Saving accounts'] = le.fit_transform(df['Saving accounts'])\n",
        "df['Checking account'] = le.fit_transform(df['Checking account'])"
      ],
      "metadata": {
        "id": "0uP5fwGQWd16"
      },
      "execution_count": 44,
      "outputs": []
    },
    {
      "cell_type": "code",
      "source": [
        "# Selecionar as variáveis relevantes\n",
        "X = df.drop(['Purpose'], axis=1)\n",
        "y = df['Purpose']"
      ],
      "metadata": {
        "id": "KxbQHUmkVl9I"
      },
      "execution_count": 45,
      "outputs": []
    },
    {
      "cell_type": "code",
      "source": [
        "# Dividir os dados em treinamento e teste\n",
        "X_train, X_test, y_train, y_test = train_test_split(X, y, test_size=0.2, random_state=42)"
      ],
      "metadata": {
        "id": "RkedOcJgVl_j"
      },
      "execution_count": 46,
      "outputs": []
    },
    {
      "cell_type": "code",
      "source": [
        "# Escalar os dados\n",
        "scaler = StandardScaler()\n",
        "X_train_scaled = scaler.fit_transform(X_train)\n",
        "X_test_scaled = scaler.transform(X_test)"
      ],
      "metadata": {
        "id": "YhrSljtVVmBr"
      },
      "execution_count": 47,
      "outputs": []
    },
    {
      "cell_type": "code",
      "source": [
        "# Treinar um modelo de Random Forest\n",
        "model = RandomForestClassifier(n_estimators=100, random_state=42)\n",
        "model.fit(X_train_scaled, y_train)"
      ],
      "metadata": {
        "colab": {
          "base_uri": "https://localhost:8080/",
          "height": 74
        },
        "id": "rSM2PSv4VmD4",
        "outputId": "602caf75-bea2-4091-a3ea-6e0de92b824f"
      },
      "execution_count": 48,
      "outputs": [
        {
          "output_type": "execute_result",
          "data": {
            "text/plain": [
              "RandomForestClassifier(random_state=42)"
            ],
            "text/html": [
              "<style>#sk-container-id-2 {color: black;}#sk-container-id-2 pre{padding: 0;}#sk-container-id-2 div.sk-toggleable {background-color: white;}#sk-container-id-2 label.sk-toggleable__label {cursor: pointer;display: block;width: 100%;margin-bottom: 0;padding: 0.3em;box-sizing: border-box;text-align: center;}#sk-container-id-2 label.sk-toggleable__label-arrow:before {content: \"▸\";float: left;margin-right: 0.25em;color: #696969;}#sk-container-id-2 label.sk-toggleable__label-arrow:hover:before {color: black;}#sk-container-id-2 div.sk-estimator:hover label.sk-toggleable__label-arrow:before {color: black;}#sk-container-id-2 div.sk-toggleable__content {max-height: 0;max-width: 0;overflow: hidden;text-align: left;background-color: #f0f8ff;}#sk-container-id-2 div.sk-toggleable__content pre {margin: 0.2em;color: black;border-radius: 0.25em;background-color: #f0f8ff;}#sk-container-id-2 input.sk-toggleable__control:checked~div.sk-toggleable__content {max-height: 200px;max-width: 100%;overflow: auto;}#sk-container-id-2 input.sk-toggleable__control:checked~label.sk-toggleable__label-arrow:before {content: \"▾\";}#sk-container-id-2 div.sk-estimator input.sk-toggleable__control:checked~label.sk-toggleable__label {background-color: #d4ebff;}#sk-container-id-2 div.sk-label input.sk-toggleable__control:checked~label.sk-toggleable__label {background-color: #d4ebff;}#sk-container-id-2 input.sk-hidden--visually {border: 0;clip: rect(1px 1px 1px 1px);clip: rect(1px, 1px, 1px, 1px);height: 1px;margin: -1px;overflow: hidden;padding: 0;position: absolute;width: 1px;}#sk-container-id-2 div.sk-estimator {font-family: monospace;background-color: #f0f8ff;border: 1px dotted black;border-radius: 0.25em;box-sizing: border-box;margin-bottom: 0.5em;}#sk-container-id-2 div.sk-estimator:hover {background-color: #d4ebff;}#sk-container-id-2 div.sk-parallel-item::after {content: \"\";width: 100%;border-bottom: 1px solid gray;flex-grow: 1;}#sk-container-id-2 div.sk-label:hover label.sk-toggleable__label {background-color: #d4ebff;}#sk-container-id-2 div.sk-serial::before {content: \"\";position: absolute;border-left: 1px solid gray;box-sizing: border-box;top: 0;bottom: 0;left: 50%;z-index: 0;}#sk-container-id-2 div.sk-serial {display: flex;flex-direction: column;align-items: center;background-color: white;padding-right: 0.2em;padding-left: 0.2em;position: relative;}#sk-container-id-2 div.sk-item {position: relative;z-index: 1;}#sk-container-id-2 div.sk-parallel {display: flex;align-items: stretch;justify-content: center;background-color: white;position: relative;}#sk-container-id-2 div.sk-item::before, #sk-container-id-2 div.sk-parallel-item::before {content: \"\";position: absolute;border-left: 1px solid gray;box-sizing: border-box;top: 0;bottom: 0;left: 50%;z-index: -1;}#sk-container-id-2 div.sk-parallel-item {display: flex;flex-direction: column;z-index: 1;position: relative;background-color: white;}#sk-container-id-2 div.sk-parallel-item:first-child::after {align-self: flex-end;width: 50%;}#sk-container-id-2 div.sk-parallel-item:last-child::after {align-self: flex-start;width: 50%;}#sk-container-id-2 div.sk-parallel-item:only-child::after {width: 0;}#sk-container-id-2 div.sk-dashed-wrapped {border: 1px dashed gray;margin: 0 0.4em 0.5em 0.4em;box-sizing: border-box;padding-bottom: 0.4em;background-color: white;}#sk-container-id-2 div.sk-label label {font-family: monospace;font-weight: bold;display: inline-block;line-height: 1.2em;}#sk-container-id-2 div.sk-label-container {text-align: center;}#sk-container-id-2 div.sk-container {/* jupyter's `normalize.less` sets `[hidden] { display: none; }` but bootstrap.min.css set `[hidden] { display: none !important; }` so we also need the `!important` here to be able to override the default hidden behavior on the sphinx rendered scikit-learn.org. See: https://github.com/scikit-learn/scikit-learn/issues/21755 */display: inline-block !important;position: relative;}#sk-container-id-2 div.sk-text-repr-fallback {display: none;}</style><div id=\"sk-container-id-2\" class=\"sk-top-container\"><div class=\"sk-text-repr-fallback\"><pre>RandomForestClassifier(random_state=42)</pre><b>In a Jupyter environment, please rerun this cell to show the HTML representation or trust the notebook. <br />On GitHub, the HTML representation is unable to render, please try loading this page with nbviewer.org.</b></div><div class=\"sk-container\" hidden><div class=\"sk-item\"><div class=\"sk-estimator sk-toggleable\"><input class=\"sk-toggleable__control sk-hidden--visually\" id=\"sk-estimator-id-2\" type=\"checkbox\" checked><label for=\"sk-estimator-id-2\" class=\"sk-toggleable__label sk-toggleable__label-arrow\">RandomForestClassifier</label><div class=\"sk-toggleable__content\"><pre>RandomForestClassifier(random_state=42)</pre></div></div></div></div></div>"
            ]
          },
          "metadata": {},
          "execution_count": 48
        }
      ]
    },
    {
      "cell_type": "code",
      "source": [
        "# Prever as probabilidades para os dados de teste\n",
        "y_pred_proba = model.predict_proba(X_test_scaled)"
      ],
      "metadata": {
        "id": "zaOxh53OVmGK"
      },
      "execution_count": 49,
      "outputs": []
    },
    {
      "cell_type": "code",
      "source": [
        "# Prever as classes para os dados de teste\n",
        "y_pred = model.predict(X_test_scaled)"
      ],
      "metadata": {
        "id": "xiXBdcf1VmIT"
      },
      "execution_count": 50,
      "outputs": []
    },
    {
      "cell_type": "code",
      "source": [
        "# Avaliar o modelo\n",
        "print(\"Acurácia:\", accuracy_score(y_test, y_pred))\n",
        "print(\"Relatório de classificação:\\n\", classification_report(y_test, y_pred))\n",
        "print(\"Matriz de confusão:\\n\", confusion_matrix(y_test, y_pred))"
      ],
      "metadata": {
        "colab": {
          "base_uri": "https://localhost:8080/"
        },
        "id": "RdP7rQ2PVmKS",
        "outputId": "e96362f4-0abf-4310-fad6-e4b78d495771"
      },
      "execution_count": 51,
      "outputs": [
        {
          "output_type": "stream",
          "name": "stdout",
          "text": [
            "Acurácia: 0.315\n",
            "Relatório de classificação:\n",
            "                      precision    recall  f1-score   support\n",
            "\n",
            "           business       0.60      0.17      0.26        18\n",
            "                car       0.32      0.43      0.36        63\n",
            "domestic appliances       0.00      0.00      0.00         1\n",
            "          education       0.00      0.00      0.00        15\n",
            "furniture/equipment       0.30      0.16      0.21        44\n",
            "           radio/TV       0.31      0.48      0.37        54\n",
            "            repairs       0.00      0.00      0.00         3\n",
            "    vacation/others       0.00      0.00      0.00         2\n",
            "\n",
            "           accuracy                           0.32       200\n",
            "          macro avg       0.19      0.15      0.15       200\n",
            "       weighted avg       0.30      0.32      0.29       200\n",
            "\n",
            "Matriz de confusão:\n",
            " [[ 3  6  0  0  2  7  0  0]\n",
            " [ 1 27  0  0  5 30  0  0]\n",
            " [ 0  1  0  0  0  0  0  0]\n",
            " [ 0  7  1  0  1  6  0  0]\n",
            " [ 1 20  0  0  7 16  0  0]\n",
            " [ 0 20  0  0  8 26  0  0]\n",
            " [ 0  2  0  1  0  0  0  0]\n",
            " [ 0  2  0  0  0  0  0  0]]\n"
          ]
        },
        {
          "output_type": "stream",
          "name": "stderr",
          "text": [
            "/usr/local/lib/python3.10/dist-packages/sklearn/metrics/_classification.py:1471: UndefinedMetricWarning: Precision and F-score are ill-defined and being set to 0.0 in labels with no predicted samples. Use `zero_division` parameter to control this behavior.\n",
            "  _warn_prf(average, modifier, msg_start, len(result))\n",
            "/usr/local/lib/python3.10/dist-packages/sklearn/metrics/_classification.py:1471: UndefinedMetricWarning: Precision and F-score are ill-defined and being set to 0.0 in labels with no predicted samples. Use `zero_division` parameter to control this behavior.\n",
            "  _warn_prf(average, modifier, msg_start, len(result))\n",
            "/usr/local/lib/python3.10/dist-packages/sklearn/metrics/_classification.py:1471: UndefinedMetricWarning: Precision and F-score are ill-defined and being set to 0.0 in labels with no predicted samples. Use `zero_division` parameter to control this behavior.\n",
            "  _warn_prf(average, modifier, msg_start, len(result))\n"
          ]
        }
      ]
    },
    {
      "cell_type": "code",
      "source": [
        "# Utilizar o modelo para prever a probabilidade de um cliente não pagar uma dívida\n",
        "cliente = pd.DataFrame({\n",
        "    'Age': [30],\n",
        "    'Sex': [0],  # Convertido para 0 (male)\n",
        "    'Job': [2],\n",
        "    'Housing': [0],  # Convertido para 0 (own)\n",
        "    'Saving accounts': [0],  # Convertido para 0 (little)\n",
        "    'Checking account': [0],  # Convertido para 0 (little)\n",
        "    'Credit amount': [1000],\n",
        "    'Duration': [12],\n",
        "    'Unnamed: 0': [0]  # Adicionado ao final\n",
        "})"
      ],
      "metadata": {
        "id": "pC_JtuuMYYpp"
      },
      "execution_count": 52,
      "outputs": []
    },
    {
      "cell_type": "code",
      "source": [
        "# Reorganizar as colunas do cliente para que estejam na mesma ordem que as colunas que foram usadas para treinar o scaler\n",
        "colunas = X.columns.tolist()\n",
        "cliente = cliente[colunas]\n"
      ],
      "metadata": {
        "id": "BK8gbMCkYYtE"
      },
      "execution_count": 53,
      "outputs": []
    },
    {
      "cell_type": "code",
      "source": [
        "# Escalar os dados do cliente\n",
        "cliente_scaled = scaler.transform(cliente)"
      ],
      "metadata": {
        "id": "2RgCQw-RYYxA"
      },
      "execution_count": 54,
      "outputs": []
    },
    {
      "cell_type": "code",
      "source": [
        "# Prever a probabilidade de não pagar a dívida\n",
        "probabilidade = model.predict_proba(cliente_scaled)\n",
        "\n",
        "print(\"Probabilidade de não pagar a dívida:\", probabilidade)"
      ],
      "metadata": {
        "colab": {
          "base_uri": "https://localhost:8080/"
        },
        "id": "6XHazr16Y6z6",
        "outputId": "1522ec52-cfeb-40e9-9f7d-d579ad8d8677"
      },
      "execution_count": 55,
      "outputs": [
        {
          "output_type": "stream",
          "name": "stdout",
          "text": [
            "Probabilidade de não pagar a dívida: [[0.02 0.3  0.01 0.23 0.11 0.21 0.11 0.01]]\n"
          ]
        }
      ]
    },
    {
      "cell_type": "code",
      "source": [
        "# Probabilidade de não pagar a dívida\n",
        "probabilidade = [[0.02, 0.3, 0.01, 0.23, 0.11, 0.21, 0.11, 0.01]]\n",
        "\n",
        "# Classes de não pagar a dívida\n",
        "classes = ['business', 'car', 'domestic appliances', 'education', 'furniture/equipment', 'radio/TV','repairs', 'vacation/others']\n",
        "\n",
        "# Gera o gráfico de barras\n",
        "plt.figure(figsize=(10,6))\n",
        "plt.bar(classes, probabilidade[0])\n",
        "plt.xlabel('Classes de não pagar a dívida')\n",
        "plt.ylabel('Probabilidade')\n",
        "plt.title('Probabilidade de não pagar a dívida')\n",
        "plt.xticks(rotation=90) # Rotaciona os títulos do eixo x para evitar sobreposição\n",
        "plt.tight_layout() # Ajusta o layout para evitar sobreposição\n",
        "plt.show()\n"
      ],
      "metadata": {
        "colab": {
          "base_uri": "https://localhost:8080/",
          "height": 607
        },
        "id": "--URiUfcY_BP",
        "outputId": "5eb4ed3d-26d6-4611-a828-a58cb99b0b65"
      },
      "execution_count": 57,
      "outputs": [
        {
          "output_type": "display_data",
          "data": {
            "text/plain": [
              "<Figure size 1000x600 with 1 Axes>"
            ],
            "image/png": "[encoded data removed]"
          },
          "metadata": {}
        }
      ]
    },
    {
      "cell_type": "markdown",
      "source": [
        "***Suporte de Vetores (SVM)***\n",
        "\n",
        "- Acurácia: 0.355\n",
        "- Descrição: O modelo de Suporte de Vetores é um algoritmo de aprendizado de máquina que busca encontrar o hiperplano que melhor separe as classes no espaço de características.\n",
        "\n",
        "***Vantagens:***\n",
        "\n",
        "- Pode lidar com dados não lineares e não paramétricos\n",
        "- Pode ser robusto a outliers e ruído nos dados\n",
        "- Pode ser interpretado facilmente\n",
        "\n",
        "***Desvantagens:***\n",
        "- Pode ser sensível à escolha do kernel e dos hiperparâmetros\n",
        "- Pode ser lento para grandes conjuntos de dados\n",
        "\n"
      ],
      "metadata": {
        "id": "ImrwL4pdh16l"
      }
    },
    {
      "cell_type": "code",
      "source": [
        "from sklearn.ensemble import RandomForestClassifier\n",
        "from sklearn.svm import SVC\n",
        "from sklearn.model_selection import train_test_split\n",
        "from sklearn.metrics import accuracy_score\n",
        "from sklearn.preprocessing import StandardScaler, LabelEncoder\n",
        "from sklearn.pipeline import Pipeline"
      ],
      "metadata": {
        "id": "ijxCVgbmZ7-Z"
      },
      "execution_count": 73,
      "outputs": []
    },
    {
      "cell_type": "code",
      "source": [
        "# Carregar os dados\n",
        "df = pd.read_csv('german_credit_data.csv')"
      ],
      "metadata": {
        "id": "vwzGvxRhfSwT"
      },
      "execution_count": 74,
      "outputs": []
    },
    {
      "cell_type": "code",
      "source": [
        "# Converter as colunas categóricas em numéricas\n",
        "le = LabelEncoder()\n",
        "df['Sex'] = le.fit_transform(df['Sex'])\n",
        "df['Housing'] = le.fit_transform(df['Housing'])\n",
        "df['Saving accounts'] = le.fit_transform(df['Saving accounts'])\n",
        "df['Checking account'] = le.fit_transform(df['Checking account'])\n"
      ],
      "metadata": {
        "id": "0NEGiGJSfSys"
      },
      "execution_count": 75,
      "outputs": []
    },
    {
      "cell_type": "code",
      "source": [
        "# Preparar os dados\n",
        "X = df.drop(['Purpose'], axis=1)\n",
        "y = df['Purpose']"
      ],
      "metadata": {
        "id": "oJhWekCpfS1X"
      },
      "execution_count": 76,
      "outputs": []
    },
    {
      "cell_type": "code",
      "source": [
        "# Dividir os dados em treinamento e teste\n",
        "X_train, X_test, y_train, y_test = train_test_split(X, y, test_size=0.2, random_state=42)"
      ],
      "metadata": {
        "id": "Q84UoZDLfS30"
      },
      "execution_count": 77,
      "outputs": []
    },
    {
      "cell_type": "code",
      "source": [
        "# Criar um pipeline para o modelo de Random Forest\n",
        "pipeline_rf = Pipeline([\n",
        "    ('scaler', StandardScaler()),\n",
        "    ('rf', RandomForestClassifier(n_estimators=200, max_depth=10, min_samples_split=5, min_samples_leaf=5))\n",
        "])"
      ],
      "metadata": {
        "id": "B_tqekErfS5e"
      },
      "execution_count": 78,
      "outputs": []
    },
    {
      "cell_type": "code",
      "source": [
        "# Criar um pipeline para o modelo de Suporte de Vetores\n",
        "pipeline_svm = Pipeline([\n",
        "    ('scaler', StandardScaler()),\n",
        "    ('svm', SVC(kernel='rbf', C=1, probability=True))  # Adicionar a opção probability=True\n",
        "])"
      ],
      "metadata": {
        "id": "BZm9LGh_fS7g"
      },
      "execution_count": 79,
      "outputs": []
    },
    {
      "cell_type": "code",
      "source": [
        "# Treinar os modelos\n",
        "pipeline_rf.fit(X_train, y_train)\n",
        "pipeline_svm.fit(X_train, y_train)"
      ],
      "metadata": {
        "colab": {
          "base_uri": "https://localhost:8080/",
          "height": 125
        },
        "id": "3WBZgAjHfS9L",
        "outputId": "4540ba49-3c4f-4891-f83b-a1db14f0e86f"
      },
      "execution_count": 80,
      "outputs": [
        {
          "output_type": "execute_result",
          "data": {
            "text/plain": [
              "Pipeline(steps=[('scaler', StandardScaler()),\n",
              "                ('svm', SVC(C=1, probability=True))])"
            ],
            "text/html": [
              "<style>#sk-container-id-4 {color: black;}#sk-container-id-4 pre{padding: 0;}#sk-container-id-4 div.sk-toggleable {background-color: white;}#sk-container-id-4 label.sk-toggleable__label {cursor: pointer;display: block;width: 100%;margin-bottom: 0;padding: 0.3em;box-sizing: border-box;text-align: center;}#sk-container-id-4 label.sk-toggleable__label-arrow:before {content: \"▸\";float: left;margin-right: 0.25em;color: #696969;}#sk-container-id-4 label.sk-toggleable__label-arrow:hover:before {color: black;}#sk-container-id-4 div.sk-estimator:hover label.sk-toggleable__label-arrow:before {color: black;}#sk-container-id-4 div.sk-toggleable__content {max-height: 0;max-width: 0;overflow: hidden;text-align: left;background-color: #f0f8ff;}#sk-container-id-4 div.sk-toggleable__content pre {margin: 0.2em;color: black;border-radius: 0.25em;background-color: #f0f8ff;}#sk-container-id-4 input.sk-toggleable__control:checked~div.sk-toggleable__content {max-height: 200px;max-width: 100%;overflow: auto;}#sk-container-id-4 input.sk-toggleable__control:checked~label.sk-toggleable__label-arrow:before {content: \"▾\";}#sk-container-id-4 div.sk-estimator input.sk-toggleable__control:checked~label.sk-toggleable__label {background-color: #d4ebff;}#sk-container-id-4 div.sk-label input.sk-toggleable__control:checked~label.sk-toggleable__label {background-color: #d4ebff;}#sk-container-id-4 input.sk-hidden--visually {border: 0;clip: rect(1px 1px 1px 1px);clip: rect(1px, 1px, 1px, 1px);height: 1px;margin: -1px;overflow: hidden;padding: 0;position: absolute;width: 1px;}#sk-container-id-4 div.sk-estimator {font-family: monospace;background-color: #f0f8ff;border: 1px dotted black;border-radius: 0.25em;box-sizing: border-box;margin-bottom: 0.5em;}#sk-container-id-4 div.sk-estimator:hover {background-color: #d4ebff;}#sk-container-id-4 div.sk-parallel-item::after {content: \"\";width: 100%;border-bottom: 1px solid gray;flex-grow: 1;}#sk-container-id-4 div.sk-label:hover label.sk-toggleable__label {background-color: #d4ebff;}#sk-container-id-4 div.sk-serial::before {content: \"\";position: absolute;border-left: 1px solid gray;box-sizing: border-box;top: 0;bottom: 0;left: 50%;z-index: 0;}#sk-container-id-4 div.sk-serial {display: flex;flex-direction: column;align-items: center;background-color: white;padding-right: 0.2em;padding-left: 0.2em;position: relative;}#sk-container-id-4 div.sk-item {position: relative;z-index: 1;}#sk-container-id-4 div.sk-parallel {display: flex;align-items: stretch;justify-content: center;background-color: white;position: relative;}#sk-container-id-4 div.sk-item::before, #sk-container-id-4 div.sk-parallel-item::before {content: \"\";position: absolute;border-left: 1px solid gray;box-sizing: border-box;top: 0;bottom: 0;left: 50%;z-index: -1;}#sk-container-id-4 div.sk-parallel-item {display: flex;flex-direction: column;z-index: 1;position: relative;background-color: white;}#sk-container-id-4 div.sk-parallel-item:first-child::after {align-self: flex-end;width: 50%;}#sk-container-id-4 div.sk-parallel-item:last-child::after {align-self: flex-start;width: 50%;}#sk-container-id-4 div.sk-parallel-item:only-child::after {width: 0;}#sk-container-id-4 div.sk-dashed-wrapped {border: 1px dashed gray;margin: 0 0.4em 0.5em 0.4em;box-sizing: border-box;padding-bottom: 0.4em;background-color: white;}#sk-container-id-4 div.sk-label label {font-family: monospace;font-weight: bold;display: inline-block;line-height: 1.2em;}#sk-container-id-4 div.sk-label-container {text-align: center;}#sk-container-id-4 div.sk-container {/* jupyter's `normalize.less` sets `[hidden] { display: none; }` but bootstrap.min.css set `[hidden] { display: none !important; }` so we also need the `!important` here to be able to override the default hidden behavior on the sphinx rendered scikit-learn.org. See: https://github.com/scikit-learn/scikit-learn/issues/21755 */display: inline-block !important;position: relative;}#sk-container-id-4 div.sk-text-repr-fallback {display: none;}</style><div id=\"sk-container-id-4\" class=\"sk-top-container\"><div class=\"sk-text-repr-fallback\"><pre>Pipeline(steps=[(&#x27;scaler&#x27;, StandardScaler()),\n",
              "                (&#x27;svm&#x27;, SVC(C=1, probability=True))])</pre><b>In a Jupyter environment, please rerun this cell to show the HTML representation or trust the notebook. <br />On GitHub, the HTML representation is unable to render, please try loading this page with nbviewer.org.</b></div><div class=\"sk-container\" hidden><div class=\"sk-item sk-dashed-wrapped\"><div class=\"sk-label-container\"><div class=\"sk-label sk-toggleable\"><input class=\"sk-toggleable__control sk-hidden--visually\" id=\"sk-estimator-id-6\" type=\"checkbox\" ><label for=\"sk-estimator-id-6\" class=\"sk-toggleable__label sk-toggleable__label-arrow\">Pipeline</label><div class=\"sk-toggleable__content\"><pre>Pipeline(steps=[(&#x27;scaler&#x27;, StandardScaler()),\n",
              "                (&#x27;svm&#x27;, SVC(C=1, probability=True))])</pre></div></div></div><div class=\"sk-serial\"><div class=\"sk-item\"><div class=\"sk-estimator sk-toggleable\"><input class=\"sk-toggleable__control sk-hidden--visually\" id=\"sk-estimator-id-7\" type=\"checkbox\" ><label for=\"sk-estimator-id-7\" class=\"sk-toggleable__label sk-toggleable__label-arrow\">StandardScaler</label><div class=\"sk-toggleable__content\"><pre>StandardScaler()</pre></div></div></div><div class=\"sk-item\"><div class=\"sk-estimator sk-toggleable\"><input class=\"sk-toggleable__control sk-hidden--visually\" id=\"sk-estimator-id-8\" type=\"checkbox\" ><label for=\"sk-estimator-id-8\" class=\"sk-toggleable__label sk-toggleable__label-arrow\">SVC</label><div class=\"sk-toggleable__content\"><pre>SVC(C=1, probability=True)</pre></div></div></div></div></div></div></div>"
            ]
          },
          "metadata": {},
          "execution_count": 80
        }
      ]
    },
    {
      "cell_type": "code",
      "source": [
        "# Avaliar a acurácia dos modelos\n",
        "y_pred_rf = pipeline_rf.predict(X_test)\n",
        "y_pred_svm = pipeline_svm.predict(X_test)\n",
        "\n",
        "print(\"Acurácia do modelo de Random Forest:\", accuracy_score(y_test, y_pred_rf))\n",
        "print(\"Acurácia do modelo de Suporte de Vetores:\", accuracy_score(y_test, y_pred_svm))\n"
      ],
      "metadata": {
        "colab": {
          "base_uri": "https://localhost:8080/"
        },
        "id": "VfWCpTyhfpQC",
        "outputId": "869efb3d-b3cd-47b6-8713-e9e97e527b94"
      },
      "execution_count": 81,
      "outputs": [
        {
          "output_type": "stream",
          "name": "stdout",
          "text": [
            "Acurácia do modelo de Random Forest: 0.325\n",
            "Acurácia do modelo de Suporte de Vetores: 0.355\n"
          ]
        }
      ]
    },
    {
      "cell_type": "code",
      "source": [
        "# Probabilidade de não pagar a dívida\n",
        "probabilidade_rf = pipeline_rf.predict_proba(X_test)\n",
        "probabilidade_svm = pipeline_svm.predict_proba(X_test)"
      ],
      "metadata": {
        "id": "lCiyXaoJfpR_"
      },
      "execution_count": 82,
      "outputs": []
    },
    {
      "cell_type": "code",
      "source": [
        "# Gera o gráfico de barras\n",
        "plt.figure(figsize=(10,6))\n",
        "plt.bar(range(len(X_test)), [p.max() for p in probabilidade_rf], label='RF')\n",
        "plt.bar(range(len(X_test)), [p.max() for p in probabilidade_svm], label='SVM')\n",
        "plt.xlabel('Exemplo de teste')\n",
        "plt.ylabel('Probabilidade')\n",
        "plt.title('Probabilidade de não pagar a dívida')\n",
        "plt.legend()\n",
        "plt.show()"
      ],
      "metadata": {
        "colab": {
          "base_uri": "https://localhost:8080/",
          "height": 565
        },
        "id": "PFlWbPOHfpV7",
        "outputId": "fdb2a7ee-be26-4fc0-d901-f4ed13c6b43b"
      },
      "execution_count": 84,
      "outputs": [
        {
          "output_type": "display_data",
          "data": {
            "text/plain": [
              "<Figure size 1000x600 with 1 Axes>"
            ],
            "image/png": "[encoded data removed]"
          },
          "metadata": {}
        }
      ]
    },
    {
      "cell_type": "markdown",
      "source": [
        "**Conclusão**\n",
        "\n",
        "A partir dos resultados obtidos, podemos concluir que:\n",
        "\n",
        "- A acurácia do modelo de Random Forest foi de 0,325, o que significa que o modelo corretamente classificou cerca de 32,5% dos exemplos de teste.\n",
        "\n",
        "- A acurácia do modelo de Suporte de Vetores foi de 0,355, o que significa que o modelo corretamente classificou cerca de 35,5% dos exemplos de teste.\n",
        "\n",
        "**Gráfico de Probabilidade**\n",
        "\n",
        "O gráfico acima mostra a probabilidade de não pagar a dívida para cada exemplo de teste, comparando os dois modelos.\n",
        "\n",
        "**Recomendações**\n",
        "\n",
        "- O modelo de Suporte de Vetores apresentou uma acurácia ligeiramente superior ao modelo de Random Forest.\n",
        "\n",
        "- É recomendável utilizar o modelo de Suporte de Vetores para classificar novos exemplos.\n",
        "\n",
        "- É importante realizar mais experimentos e ajustar os hiperparâmetros dos modelos para melhorar a acurácia.\n",
        "\n",
        "**Limitações**\n",
        "\n",
        "- A acurácia dos modelos pode variar dependendo da qualidade e quantidade dos dados utilizados.\n",
        "\n",
        "- O modelo de Suporte de Vetores pode ser mais sensível a outliers e ruído nos dados."
      ],
      "metadata": {
        "id": "h2-qaYxxg_LC"
      }
    }
  ]
}