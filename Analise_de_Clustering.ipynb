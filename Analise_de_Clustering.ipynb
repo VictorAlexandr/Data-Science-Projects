{
  "nbformat": 4,
  "nbformat_minor": 0,
  "metadata": {
    "colab": {
      "provenance": [],
      "authorship_tag": "ABX9TyNLUgMtIX0zESUMGQJIF21J",
      "include_colab_link": true
    },
    "kernelspec": {
      "name": "python3",
      "display_name": "Python 3"
    },
    "language_info": {
      "name": "python"
    }
  },
  "cells": [
    {
      "cell_type": "markdown",
      "metadata": {
        "id": "view-in-github",
        "colab_type": "text"
      },
      "source": [
        "<a href=\"https://colab.research.google.com/github/VictorAlexandr/Data-Science-Projects/blob/main/Analise_de_Clustering.ipynb\" target=\"_parent\"><img src=\"https://colab.research.google.com/assets/colab-badge.svg\" alt=\"Open In Colab\"/></a>"
      ]
    },
    {
      "cell_type": "markdown",
      "source": [
        "Vamos fazer uma análise de clustering com o dataset de clientes do e-commerce **\"Online Retail\"** disponível no Kaggle. Esse dataset contém informações sobre as compras de clientes online, incluindo a data da compra, o valor da compra, o produto comprado, etc."
      ],
      "metadata": {
        "id": "-uC9QIGc7Ksj"
      }
    },
    {
      "cell_type": "markdown",
      "source": [
        "**Passo 1: Importar bibliotecas e carregar o dataset**\n",
        "\n"
      ],
      "metadata": {
        "id": "IP5v6BUyKeKG"
      }
    },
    {
      "cell_type": "code",
      "execution_count": 2,
      "metadata": {
        "id": "GV3YRe-3xkcY"
      },
      "outputs": [],
      "source": [
        "import pandas as pd\n",
        "import numpy as np\n",
        "from sklearn.cluster import KMeans\n",
        "from sklearn.preprocessing import StandardScaler\n",
        "from sklearn.metrics import silhouette_score\n",
        "from sklearn.decomposition import PCA"
      ]
    },
    {
      "cell_type": "code",
      "source": [
        "# Carregar o dataset\n",
        "\n",
        "df = pd.read_excel('online_retail.xlsx')"
      ],
      "metadata": {
        "id": "xrCiR8eF7TTU"
      },
      "execution_count": 4,
      "outputs": []
    },
    {
      "cell_type": "markdown",
      "source": [
        "**Passo 2: Tratar os dados**\n",
        "\n"
      ],
      "metadata": {
        "id": "Nyr2i7wnKlcz"
      }
    },
    {
      "cell_type": "code",
      "source": [
        "# Remover Linhas com Valores Faltantes\n",
        "\n",
        "df.dropna(inplace=True)"
      ],
      "metadata": {
        "id": "ede1KctW7TVh"
      },
      "execution_count": 5,
      "outputs": []
    },
    {
      "cell_type": "code",
      "source": [
        "# Converter a coluna 'InvoiceDate' para datatime\n",
        "\n",
        "df['InvoiceDate'] = pd.to_datetime(df['InvoiceDate'])\n"
      ],
      "metadata": {
        "id": "IJDT9JyL7TX-"
      },
      "execution_count": 7,
      "outputs": []
    },
    {
      "cell_type": "code",
      "source": [
        "# Criar uma coluna 'TotalValue' calculando o valor total da compra\n",
        "df['TotalValue'] = df['Quantity'] * df['Price']"
      ],
      "metadata": {
        "id": "iatfqDr97TaG"
      },
      "execution_count": 9,
      "outputs": []
    },
    {
      "cell_type": "code",
      "source": [
        "print(df.columns)"
      ],
      "metadata": {
        "colab": {
          "base_uri": "https://localhost:8080/"
        },
        "id": "wxoiBrlP-MaM",
        "outputId": "ae36aad4-4f72-42d5-cee1-5db8e46ad9bd"
      },
      "execution_count": 13,
      "outputs": [
        {
          "output_type": "stream",
          "name": "stdout",
          "text": [
            "Index(['Invoice', 'StockCode', 'Description', 'Quantity', 'InvoiceDate',\n",
            "       'Price', 'CustomerID', 'Country', 'TotalValue'],\n",
            "      dtype='object')\n"
          ]
        }
      ]
    },
    {
      "cell_type": "code",
      "source": [
        "df = df.rename(columns={'Customer ID': 'CustomerID'})"
      ],
      "metadata": {
        "id": "QB7iFOPz-m1n"
      },
      "execution_count": 12,
      "outputs": []
    },
    {
      "cell_type": "code",
      "source": [
        "# Selecionar apenas as colunas relevantes para a análise de clustering\n",
        "df_cluster = df[['CustomerID', 'TotalValue', 'Quantity']]"
      ],
      "metadata": {
        "id": "VpvVOHZp7TcP"
      },
      "execution_count": 14,
      "outputs": []
    },
    {
      "cell_type": "markdown",
      "source": [
        "**Passo 3: Normalizar os dados**\n",
        "\n"
      ],
      "metadata": {
        "id": "XJawW7wBKyzQ"
      }
    },
    {
      "cell_type": "code",
      "source": [
        "# Criar um objeto StandardScaler\n",
        "scaler = StandardScaler()"
      ],
      "metadata": {
        "id": "oKBckmZ47Tev"
      },
      "execution_count": 15,
      "outputs": []
    },
    {
      "cell_type": "code",
      "source": [
        "# Normalizar os dados\n",
        "df_cluster_scaled = scaler.fit_transform(df_cluster)"
      ],
      "metadata": {
        "id": "iYoAiLuK7Tgm"
      },
      "execution_count": 16,
      "outputs": []
    },
    {
      "cell_type": "markdown",
      "source": [
        "**Passo 4: Realizar a análise de clustering com K-Means**\n",
        "\n"
      ],
      "metadata": {
        "id": "Nsb_Ie97LSUh"
      }
    },
    {
      "cell_type": "code",
      "source": [
        "# Criar um objeto KMeans com 3 clusters\n",
        "kmeans = KMeans(n_clusters=3, random_state=42)"
      ],
      "metadata": {
        "id": "fQsx7aXW7Tik"
      },
      "execution_count": 17,
      "outputs": []
    },
    {
      "cell_type": "code",
      "source": [
        "# Realizar o clustering\n",
        "kmeans.fit(df_cluster_scaled)"
      ],
      "metadata": {
        "colab": {
          "base_uri": "https://localhost:8080/",
          "height": 129
        },
        "id": "HaeIw_zX7TmG",
        "outputId": "68456962-7894-4e53-bfcc-422169eb346f"
      },
      "execution_count": 18,
      "outputs": [
        {
          "output_type": "stream",
          "name": "stderr",
          "text": [
            "/usr/local/lib/python3.10/dist-packages/sklearn/cluster/_kmeans.py:1416: FutureWarning: The default value of `n_init` will change from 10 to 'auto' in 1.4. Set the value of `n_init` explicitly to suppress the warning\n",
            "  super()._check_params_vs_input(X, default_n_init=10)\n"
          ]
        },
        {
          "output_type": "execute_result",
          "data": {
            "text/plain": [
              "KMeans(n_clusters=3, random_state=42)"
            ],
            "text/html": [
              "<style>#sk-container-id-1 {color: black;}#sk-container-id-1 pre{padding: 0;}#sk-container-id-1 div.sk-toggleable {background-color: white;}#sk-container-id-1 label.sk-toggleable__label {cursor: pointer;display: block;width: 100%;margin-bottom: 0;padding: 0.3em;box-sizing: border-box;text-align: center;}#sk-container-id-1 label.sk-toggleable__label-arrow:before {content: \"▸\";float: left;margin-right: 0.25em;color: #696969;}#sk-container-id-1 label.sk-toggleable__label-arrow:hover:before {color: black;}#sk-container-id-1 div.sk-estimator:hover label.sk-toggleable__label-arrow:before {color: black;}#sk-container-id-1 div.sk-toggleable__content {max-height: 0;max-width: 0;overflow: hidden;text-align: left;background-color: #f0f8ff;}#sk-container-id-1 div.sk-toggleable__content pre {margin: 0.2em;color: black;border-radius: 0.25em;background-color: #f0f8ff;}#sk-container-id-1 input.sk-toggleable__control:checked~div.sk-toggleable__content {max-height: 200px;max-width: 100%;overflow: auto;}#sk-container-id-1 input.sk-toggleable__control:checked~label.sk-toggleable__label-arrow:before {content: \"▾\";}#sk-container-id-1 div.sk-estimator input.sk-toggleable__control:checked~label.sk-toggleable__label {background-color: #d4ebff;}#sk-container-id-1 div.sk-label input.sk-toggleable__control:checked~label.sk-toggleable__label {background-color: #d4ebff;}#sk-container-id-1 input.sk-hidden--visually {border: 0;clip: rect(1px 1px 1px 1px);clip: rect(1px, 1px, 1px, 1px);height: 1px;margin: -1px;overflow: hidden;padding: 0;position: absolute;width: 1px;}#sk-container-id-1 div.sk-estimator {font-family: monospace;background-color: #f0f8ff;border: 1px dotted black;border-radius: 0.25em;box-sizing: border-box;margin-bottom: 0.5em;}#sk-container-id-1 div.sk-estimator:hover {background-color: #d4ebff;}#sk-container-id-1 div.sk-parallel-item::after {content: \"\";width: 100%;border-bottom: 1px solid gray;flex-grow: 1;}#sk-container-id-1 div.sk-label:hover label.sk-toggleable__label {background-color: #d4ebff;}#sk-container-id-1 div.sk-serial::before {content: \"\";position: absolute;border-left: 1px solid gray;box-sizing: border-box;top: 0;bottom: 0;left: 50%;z-index: 0;}#sk-container-id-1 div.sk-serial {display: flex;flex-direction: column;align-items: center;background-color: white;padding-right: 0.2em;padding-left: 0.2em;position: relative;}#sk-container-id-1 div.sk-item {position: relative;z-index: 1;}#sk-container-id-1 div.sk-parallel {display: flex;align-items: stretch;justify-content: center;background-color: white;position: relative;}#sk-container-id-1 div.sk-item::before, #sk-container-id-1 div.sk-parallel-item::before {content: \"\";position: absolute;border-left: 1px solid gray;box-sizing: border-box;top: 0;bottom: 0;left: 50%;z-index: -1;}#sk-container-id-1 div.sk-parallel-item {display: flex;flex-direction: column;z-index: 1;position: relative;background-color: white;}#sk-container-id-1 div.sk-parallel-item:first-child::after {align-self: flex-end;width: 50%;}#sk-container-id-1 div.sk-parallel-item:last-child::after {align-self: flex-start;width: 50%;}#sk-container-id-1 div.sk-parallel-item:only-child::after {width: 0;}#sk-container-id-1 div.sk-dashed-wrapped {border: 1px dashed gray;margin: 0 0.4em 0.5em 0.4em;box-sizing: border-box;padding-bottom: 0.4em;background-color: white;}#sk-container-id-1 div.sk-label label {font-family: monospace;font-weight: bold;display: inline-block;line-height: 1.2em;}#sk-container-id-1 div.sk-label-container {text-align: center;}#sk-container-id-1 div.sk-container {/* jupyter's `normalize.less` sets `[hidden] { display: none; }` but bootstrap.min.css set `[hidden] { display: none !important; }` so we also need the `!important` here to be able to override the default hidden behavior on the sphinx rendered scikit-learn.org. See: https://github.com/scikit-learn/scikit-learn/issues/21755 */display: inline-block !important;position: relative;}#sk-container-id-1 div.sk-text-repr-fallback {display: none;}</style><div id=\"sk-container-id-1\" class=\"sk-top-container\"><div class=\"sk-text-repr-fallback\"><pre>KMeans(n_clusters=3, random_state=42)</pre><b>In a Jupyter environment, please rerun this cell to show the HTML representation or trust the notebook. <br />On GitHub, the HTML representation is unable to render, please try loading this page with nbviewer.org.</b></div><div class=\"sk-container\" hidden><div class=\"sk-item\"><div class=\"sk-estimator sk-toggleable\"><input class=\"sk-toggleable__control sk-hidden--visually\" id=\"sk-estimator-id-1\" type=\"checkbox\" checked><label for=\"sk-estimator-id-1\" class=\"sk-toggleable__label sk-toggleable__label-arrow\">KMeans</label><div class=\"sk-toggleable__content\"><pre>KMeans(n_clusters=3, random_state=42)</pre></div></div></div></div></div>"
            ]
          },
          "metadata": {},
          "execution_count": 18
        }
      ]
    },
    {
      "cell_type": "markdown",
      "source": [
        "**Passo 5: Avaliar a qualidade do clustering**\n",
        "\n"
      ],
      "metadata": {
        "id": "QaMsDk4iLX-5"
      }
    },
    {
      "cell_type": "code",
      "source": [
        "# Calcular o coeficiente de silhueta\n",
        "silhouette = silhouette_score(df_cluster_scaled, kmeans.labels_)\n",
        "\n",
        "print(f'Coeficiente de silhueta: {silhouette:.3f}')\n"
      ],
      "metadata": {
        "colab": {
          "base_uri": "https://localhost:8080/"
        },
        "id": "dCkrPwix8j7Q",
        "outputId": "8c8f63df-14a8-411b-c2c9-868dc1709cfa"
      },
      "execution_count": 19,
      "outputs": [
        {
          "output_type": "stream",
          "name": "stdout",
          "text": [
            "Coeficiente de silhueta: 0.557\n"
          ]
        }
      ]
    },
    {
      "cell_type": "markdown",
      "source": [
        "**Passo 6: Visualizar os clusters**"
      ],
      "metadata": {
        "id": "1b_S2TqCLcm0"
      }
    },
    {
      "cell_type": "code",
      "source": [
        "# Reduzir a dimensionalidade dos dados para 2D com PCA\n",
        "pca = PCA(n_components=2)\n",
        "df_pca = pca.fit_transform(df_cluster_scaled)"
      ],
      "metadata": {
        "id": "uGUggDXT8j9d"
      },
      "execution_count": 20,
      "outputs": []
    },
    {
      "cell_type": "code",
      "source": [
        "# Plotar os clusters\n",
        "import matplotlib.pyplot as plt\n",
        "\n",
        "plt.scatter(df_pca[:, 0], df_pca[:, 1], c=kmeans.labels_)\n",
        "plt.title('Clusters de clientes')\n",
        "plt.xlabel('Componente principal 1')\n",
        "plt.ylabel('Componente principal 2')\n",
        "plt.show()"
      ],
      "metadata": {
        "colab": {
          "base_uri": "https://localhost:8080/",
          "height": 472
        },
        "id": "JEqh3m9R8j_p",
        "outputId": "af139bfb-cc69-4994-c2fc-0c59b74d1601"
      },
      "execution_count": 21,
      "outputs": [
        {
          "output_type": "display_data",
          "data": {
            "text/plain": [
              "<Figure size 640x480 with 1 Axes>"
            ],
            "image/png": "[encoded data removed]"
          },
          "metadata": {}
        }
      ]
    },
    {
      "cell_type": "markdown",
      "source": [
        "O coeficiente de silhueta é uma medida de qualidade do clustering, que varia de -1 a 1. Um valor próximo de 1 indica que os dados estão bem separados em clusters distintos, enquanto um valor próximo de -1 indica que os dados estão misturados e não há uma boa separação entre os clusters.\n",
        "\n",
        "O coeficiente de silhueta é 0,557, o que é um valor razoável. Isso sugere que os dados estão razoavelmente separados em clusters, mas pode haver algum sobreposição entre os clusters.\n",
        "\n",
        "Aqui está uma interpretação geral dos valores de coeficiente de silhueta:\n",
        "\n",
        "- 0,9 a 1,0: Excelente separação entre os clusters\n",
        "\n",
        "- 0,7 a 0,9: Boa separação entre os clusters\n",
        "\n",
        "- 0,5 a 0,7: Separação razoável entre os clusters\n",
        "\n",
        "- 0,3 a 0,5: Separação fraca entre os clusters\n",
        "\n",
        "- 0 a 0,3: Não há separação entre os clusters\n",
        "\n",
        "- -1 a 0: Os dados estão misturados e não há separação entre os clusters\n",
        "\n",
        "No caso, o valor de 0,557 sugere que os dados estão razoavelmente separados em clusters, mas pode haver algum ajuste necessário para melhorar a separação.\n",
        "\n",
        "Podemos tentar ajustar os parâmetros do algoritmo de clustering, como o número de clusters (n_clusters) ou o método de inicialização (init), para ver se isso melhora a separação dos dados."
      ],
      "metadata": {
        "id": "eQkw_r_HL16K"
      }
    }
  ]
}