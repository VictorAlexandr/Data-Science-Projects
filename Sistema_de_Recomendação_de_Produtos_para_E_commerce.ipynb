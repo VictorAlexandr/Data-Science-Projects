{
  "nbformat": 4,
  "nbformat_minor": 0,
  "metadata": {
    "colab": {
      "provenance": [],
      "authorship_tag": "ABX9TyMGiivvlvnArbrZ3cYUYp5U",
      "include_colab_link": true
    },
    "kernelspec": {
      "name": "python3",
      "display_name": "Python 3"
    },
    "language_info": {
      "name": "python"
    }
  },
  "cells": [
    {
      "cell_type": "markdown",
      "metadata": {
        "id": "view-in-github",
        "colab_type": "text"
      },
      "source": [
        "<a href=\"https://colab.research.google.com/github/VictorAlexandr/Data-Science-Projects/blob/main/Sistema_de_Recomenda%C3%A7%C3%A3o_de_Produtos_para_E_commerce.ipynb\" target=\"_parent\"><img src=\"https://colab.research.google.com/assets/colab-badge.svg\" alt=\"Open In Colab\"/></a>"
      ]
    },
    {
      "cell_type": "markdown",
      "source": [
        "**Título:** Sistema de Recomendação de Produtos para E-commerce\n",
        "\n",
        "**Objetivo:** Desenvolver um sistema de recomendação de produtos que sugira produtos para os usuários com base em suas preferências e compras anteriores.\n",
        "\n",
        "**Dataset:** Online Retail II (https://www.kaggle.com/carrie1/online-retail-ii)\n",
        "\n",
        "**Tarefa:**\n",
        "\n",
        "- Desenvolver um sistema de recomendação de produtos que sugira produtos para os usuários com base em suas preferências e compras anteriores.\n",
        "\n",
        "- Utilizar a métrica de similaridade coseno para calcular a similaridade entre os usuários.\n",
        "\n",
        "- Recomendar produtos para os usuários com base na similaridade calculada.\n",
        "\n",
        "**Benefícios:**\n",
        "\n",
        "- Melhorar a experiência do usuário no e-commerce.\n",
        "- Aumentar as vendas e a fidelidade dos clientes.\n",
        "- Oferecer produtos personalizados para os usuários."
      ],
      "metadata": {
        "id": "ihs4HasRuG9S"
      }
    },
    {
      "cell_type": "code",
      "source": [
        "import pandas as pd\n",
        "import numpy as np\n",
        "from sklearn.model_selection import train_test_split\n",
        "from sklearn.metrics.pairwise import cosine_similarity\n",
        "from sklearn.feature_extraction.text import TfidfVectorizer"
      ],
      "metadata": {
        "id": "3zAoPSUMt9Cf"
      },
      "execution_count": 1,
      "outputs": []
    },
    {
      "cell_type": "code",
      "source": [
        "# Carregar o dataset\n",
        "df = pd.read_excel('online_retail_II.xlsx')"
      ],
      "metadata": {
        "id": "v2P8n5S6t9EU"
      },
      "execution_count": 2,
      "outputs": []
    },
    {
      "cell_type": "code",
      "source": [
        "# Remover linhas com valores faltantes\n",
        "df.dropna(inplace=True)"
      ],
      "metadata": {
        "id": "Nspr4sTmt9Go"
      },
      "execution_count": 3,
      "outputs": []
    },
    {
      "cell_type": "code",
      "source": [
        "# Converter a coluna 'InvoiceDate' para datetime\n",
        "df['InvoiceDate'] = pd.to_datetime(df['InvoiceDate'])"
      ],
      "metadata": {
        "id": "CcyaHEq1t9Ix"
      },
      "execution_count": 4,
      "outputs": []
    },
    {
      "cell_type": "code",
      "source": [
        "# Renomear a coluna 'Customer ID' para 'CustomerID'\n",
        "df.rename(columns={'Customer ID': 'CustomerID'}, inplace=True)"
      ],
      "metadata": {
        "id": "VIKeSxwOvahq"
      },
      "execution_count": 7,
      "outputs": []
    },
    {
      "cell_type": "code",
      "source": [
        "# Criar uma coluna 'UserId' única para cada cliente\n",
        "df['UserId'] = df['CustomerID']"
      ],
      "metadata": {
        "id": "eejBdrMzt9M9"
      },
      "execution_count": 8,
      "outputs": []
    },
    {
      "cell_type": "code",
      "source": [
        "# Criar uma coluna 'ProductId' única para cada produto\n",
        "df['ProductId'] = df['StockCode']"
      ],
      "metadata": {
        "id": "4rgKvgVDt9PG"
      },
      "execution_count": 9,
      "outputs": []
    },
    {
      "cell_type": "code",
      "source": [
        "# Criar uma coluna 'Quantity' com a quantidade comprada\n",
        "df['Quantity'] = df['Quantity']"
      ],
      "metadata": {
        "id": "WxuZ0Is2t9Rq"
      },
      "execution_count": 10,
      "outputs": []
    },
    {
      "cell_type": "code",
      "source": [
        "# Criar uma coluna 'Preço' com o preço do produto\n",
        "df['Preço'] = df['Price']"
      ],
      "metadata": {
        "id": "MF5VT6mGum-q"
      },
      "execution_count": 12,
      "outputs": []
    },
    {
      "cell_type": "code",
      "source": [
        "# Remover colunas desnecessárias\n",
        "df.drop(['CustomerID', 'StockCode', 'Price', 'Invoice'], axis=1, inplace=True)"
      ],
      "metadata": {
        "id": "MxollL18un0A"
      },
      "execution_count": 15,
      "outputs": []
    },
    {
      "cell_type": "code",
      "source": [
        "# Criar uma matriz de utilização com os usuários como linhas e os produtos como colunas\n",
        "user_item_matrix = pd.pivot_table(df, index='UserId', columns='ProductId', values='Quantity', aggfunc='sum', fill_value=0)"
      ],
      "metadata": {
        "id": "D1Ievnv0unA6"
      },
      "execution_count": 24,
      "outputs": []
    },
    {
      "cell_type": "code",
      "source": [
        "# Calcular a similaridade entre os usuários utilizando a métrica de similaridade coseno\n",
        "similarity_matrix = cosine_similarity(user_item_matrix)\n",
        "\n",
        "def recommend_products(user_id, num_recs=5):\n",
        "    user_similarities = similarity_matrix[user_id]\n",
        "    similar_user_indices = np.argsort(-user_similarities)[:num_recs]\n",
        "    recommended_products = []\n",
        "    for idx in similar_user_indices:\n",
        "        products = user_item_matrix.columns[user_item_matrix.iloc[idx] > 0]\n",
        "        recommended_products.extend(products)\n",
        "    recommended_products = [prod for prod in recommended_products if prod not in user_item_matrix.columns[user_item_matrix.iloc[user_id] > 0]]\n",
        "    return recommended_products[:num_recs]"
      ],
      "metadata": {
        "id": "E3V-c9_GunDJ"
      },
      "execution_count": 25,
      "outputs": []
    },
    {
      "cell_type": "code",
      "source": [
        "# Testar o algoritmo de recomendação para um usuário\n",
        "num_usuarios = similarity_matrix.shape[0]\n",
        "user_id = np.random.randint(0, num_usuarios)\n",
        "recommended_products = recommend_products(user_id)\n",
        "print(recommended_products)"
      ],
      "metadata": {
        "colab": {
          "base_uri": "https://localhost:8080/"
        },
        "id": "iabqvcIquwYe",
        "outputId": "e5de2ea2-8204-4930-cf59-c25cc33c2683"
      },
      "execution_count": 27,
      "outputs": [
        {
          "output_type": "stream",
          "name": "stdout",
          "text": [
            "[22079, 22080, 35979, 84946, 85066]\n"
          ]
        }
      ]
    },
    {
      "cell_type": "markdown",
      "source": [
        "O resultado **[22079, 22080, 35979, 84946, 85066]** representa os IDs dos produtos recomendados para o usuário gerado aleatoriamente. Esses produtos são os mais semelhantes aos que o usuário já comprou ou mostrou interesse, com base na análise de similaridade entre os usuários."
      ],
      "metadata": {
        "id": "m_0suZRBydy1"
      }
    },
    {
      "cell_type": "markdown",
      "source": [
        "Agora, pode usar esses IDs para obter mais informações sobre os produtos recomendados, como o nome, descrição, preço, etc. Basta acessar o DataFrame df e filtrar os produtos com esses IDs. Por exemplo:"
      ],
      "metadata": {
        "id": "Qz51OBzJypK0"
      }
    },
    {
      "cell_type": "code",
      "source": [
        "produtos_recomendados = df[df['ProductId'].isin([22079, 22080, 35979, 84946, 85066])]\n",
        "print(produtos_recomendados)"
      ],
      "metadata": {
        "colab": {
          "base_uri": "https://localhost:8080/"
        },
        "id": "2mLF40x0ykT1",
        "outputId": "9bd396e9-b4ff-4f8f-d7dd-1d02dea7c379"
      },
      "execution_count": 28,
      "outputs": [
        {
          "output_type": "stream",
          "name": "stdout",
          "text": [
            "                            Description  Quantity         InvoiceDate  \\\n",
            "172         CREAM SWEETHEART MINI CHEST         2 2009-12-01 10:06:00   \n",
            "184     ANTIQUE SILVER TEA GLASS ETCHED       -12 2009-12-01 10:33:00   \n",
            "193     ANTIQUE SILVER TEA GLASS ETCHED        12 2009-12-01 10:36:00   \n",
            "412     ANTIQUE SILVER TEA GLASS ETCHED        12 2009-12-01 11:37:00   \n",
            "450           RIBBON REEL SPOTS DESIGN         10 2009-12-01 11:41:00   \n",
            "...                                 ...       ...                 ...   \n",
            "523616      CREAM SWEETHEART MINI CHEST         1 2010-12-09 14:08:00   \n",
            "524361      CREAM SWEETHEART MINI CHEST         2 2010-12-09 14:25:00   \n",
            "525332       RIBBON REEL HEARTS DESIGN          5 2010-12-09 19:23:00   \n",
            "525344  ANTIQUE SILVER TEA GLASS ETCHED         6 2010-12-09 19:23:00   \n",
            "525369  ANTIQUE SILVER TEA GLASS ETCHED         2 2010-12-09 19:28:00   \n",
            "\n",
            "               Country   UserId ProductId  Preço  \n",
            "172     United Kingdom  13758.0     85066  12.75  \n",
            "184          Australia  16321.0     84946   1.25  \n",
            "193          Australia  16321.0     84946   1.25  \n",
            "412     United Kingdom  17700.0     84946   1.25  \n",
            "450               EIRE  14911.0     22080   1.65  \n",
            "...                ...      ...       ...    ...  \n",
            "523616  United Kingdom  16795.0     85066  12.75  \n",
            "524361  United Kingdom  16255.0     85066  12.75  \n",
            "525332  United Kingdom  14702.0     22079   1.65  \n",
            "525344  United Kingdom  14702.0     84946   1.25  \n",
            "525369  United Kingdom  13230.0     84946   1.25  \n",
            "\n",
            "[1821 rows x 7 columns]\n"
          ]
        }
      ]
    },
    {
      "cell_type": "markdown",
      "source": [
        "Para melhorar a recomendação, pode considerar adicionar mais critérios de filtro, como:\n",
        "\n",
        "- Excluir produtos que o usuário já comprou anteriormente\n",
        "- Excluir produtos que não sejam relevantes para o usuário atual\n",
        "- Incluir produtos que sejam mais populares ou mais bem avaliados\n",
        "\n",
        "\n",
        "Além disso, pode considerar usar técnicas de recomendação mais avançadas, como:\n",
        "\n",
        "- Collaborative Filtering (CF)\n",
        "- Content-Based Filtering (CBF)\n",
        "- Hybrid Recommender Systems"
      ],
      "metadata": {
        "id": "5IokqumezLqV"
      }
    }
  ]
}